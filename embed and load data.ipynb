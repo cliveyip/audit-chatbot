{
 "cells": [
  {
   "cell_type": "code",
   "execution_count": 1,
   "metadata": {},
   "outputs": [],
   "source": [
    "from langchain_community.document_loaders import PyPDFLoader\n",
    "\n",
    "loader = PyPDFLoader(\"./pdf/IIA Implementation-Guides.pdf\")\n",
    "# loader = PyPDFLoader(\"./pdf/IIA Standards - Audit Manual.pdf\")\n",
    "documents = loader.load()"
   ]
  },
  {
   "cell_type": "code",
   "execution_count": 2,
   "metadata": {},
   "outputs": [],
   "source": [
    "# documents"
   ]
  },
  {
   "cell_type": "code",
   "execution_count": 3,
   "metadata": {},
   "outputs": [],
   "source": [
    "from langchain.text_splitter import CharacterTextSplitter\n",
    "\n",
    "text_splitter = CharacterTextSplitter(chunk_size=1000, chunk_overlap=0)\n",
    "docs = text_splitter.split_documents(documents)"
   ]
  },
  {
   "cell_type": "code",
   "execution_count": 4,
   "metadata": {},
   "outputs": [
    {
     "data": {
      "text/plain": [
       "203"
      ]
     },
     "execution_count": 4,
     "metadata": {},
     "output_type": "execute_result"
    }
   ],
   "source": [
    "len(docs)"
   ]
  },
  {
   "cell_type": "code",
   "execution_count": 5,
   "metadata": {},
   "outputs": [
    {
     "name": "stderr",
     "output_type": "stream",
     "text": [
      "c:\\Users\\yiclive\\Anaconda3\\envs\\py311\\Lib\\site-packages\\tqdm\\auto.py:21: TqdmWarning: IProgress not found. Please update jupyter and ipywidgets. See https://ipywidgets.readthedocs.io/en/stable/user_install.html\n",
      "  from .autonotebook import tqdm as notebook_tqdm\n"
     ]
    }
   ],
   "source": [
    "from langchain_community.embeddings.sentence_transformer import (\n",
    "    SentenceTransformerEmbeddings,\n",
    ")\n",
    "\n",
    "embedding_function = SentenceTransformerEmbeddings(model_name=\"all-MiniLM-L6-v2\")"
   ]
  },
  {
   "cell_type": "code",
   "execution_count": 6,
   "metadata": {},
   "outputs": [],
   "source": [
    "from langchain_community.vectorstores import Chroma\n",
    "\n",
    "db = Chroma.from_documents(docs, embedding_function, persist_directory=\"chroma_db\")"
   ]
  },
  {
   "cell_type": "code",
   "execution_count": 8,
   "metadata": {},
   "outputs": [],
   "source": [
    "query = \"What are the steps involved in audit engagement planning?\"\n",
    "docs = db.similarity_search(query)"
   ]
  },
  {
   "cell_type": "code",
   "execution_count": 9,
   "metadata": {},
   "outputs": [
    {
     "data": {
      "text/plain": [
       "Document(page_content='International Standards for the Professional Practice of Internal Auditing  (Standards)  \\nRevised:  October 2016  Page 16 of 25 \\nEffective: January 2017   \\n© 2016  The Institute of Internal Auditors  2220.A2 – If significant consulting opportunities arise during an assurance engage ment, a \\nspecific written understanding as to the objectives, scope, respective responsibilities, and \\nother expectations should be reached and the results of the consulting engagement \\ncommunicated in accordance with consulting standards.  \\n2220.C1  – In perfor ming consulting engagements, internal auditors must ensure that the \\nscope of the engagement is sufficient to address the agreed -upon objectives. If internal \\nauditors develop reservations about the scope during the engagement, these reservations \\nmust be discussed with the client to determine whether to continue with the engagement.  \\n2220.C2  – During consulting engagements, internal auditors must address controls consistent \\nwith the engagement’s objectives and be alert to significant control issues.  \\n2230 – Engagement Resource Allocation  \\nInternal auditors must determine appropriate and sufficient resources to achieve engagement \\nobjectives based on an evaluation of the nature and complexity of each engagement, time \\nconstraints, and available resources.  \\nInterpr etation:  \\nAppropriate refers to the mix of knowledge, skills, and other competencies needed to perform the \\nengagement. Sufficient refers to the quantity of resources needed to accomplish the engagement \\nwith due professional care.  \\n2240 – Engagement Work Program  \\nInternal auditors must develop and document work programs that achieve the engagement \\nobjectives.  \\n2240.A1  – Work programs must include the procedures for identifying, analyzing, evaluating, \\nand documenting information during the engagement. The wor k program must be approved \\nprior to its implementation, and any adjustments approved promptly.  \\n2240.C1 – Work programs for consulting engagements may vary in form and content \\ndepending upon the nature of the engagement.  \\n2300 – Performing the Engagement  \\nInternal auditors must identify, analyze, evaluate, and document sufficient information to achieve \\nthe engagement’s objectives.  \\n2310 – Identifying Information  \\nInternal auditors must identify sufficient, reliable, relevant, and useful information to achieve  the \\nengagement’s objectives.  \\nInterpretation:', metadata={'page': 15, 'source': './pdf/IIA Standards - Audit Manual.pdf'})"
      ]
     },
     "execution_count": 9,
     "metadata": {},
     "output_type": "execute_result"
    }
   ],
   "source": [
    "docs[0]"
   ]
  },
  {
   "cell_type": "code",
   "execution_count": 10,
   "metadata": {},
   "outputs": [
    {
     "data": {
      "text/plain": [
       "Document(page_content=\"International Standards for the Professional Practice of Internal Auditing  (Standards)  \\nRevised:  October 2016  Page 15 of 25 \\nEffective: January 2017   \\n© 2016  The Institute of Internal Auditors  2201.A1  – When planning an engagement for parties outside the organization, internal \\nauditors must establish a written understanding with them about objectives, scope,  \\nrespective responsibilities, and other expectations, including restrictions on distribution of \\nthe results of the engagement and access to engagement records.  \\n2201.C1  – Internal auditors must establish an understanding with consulting engagement \\nclients about objectives, scope, respective responsibilities, and other client expectations. \\nFor significant engagements, this understanding must be documented.  \\n2210 – Engagement Objectives  \\nObjectives must be established for each engagement.  \\n2210.A1  – Internal auditors must conduct a preliminary assessment of the risks relevant to \\nthe activity under review. Engagement objectives must reflect the results of this assessment.  \\n2210.A2  – Internal auditor s must consider the probability of significant errors, fraud , \\nnoncompliance, and other exposures when developing the engagement objectives.  \\n2210.A3  – Adequate criteria are needed to evaluate governance, risk management, and \\ncontrols. Internal auditors must a scertain the extent to which management and/or the board \\nhas established adequate criteria to determine whether objectives and goals have been \\naccomplished. If adequate, internal auditors must use such criteria in their evaluation. If \\ninadequate, internal auditors must identify appropriate evaluation criteria through discussion \\nwith management and/or the board.  \\nInterpretation:  \\nTypes of criteria may include:  \\n\\uf0b7 Internal (e.g., policies and procedures of the organization).  \\n\\uf0b7 External (e.g., laws and regulations imposed by statutory bodies).  \\n\\uf0b7 Leading practices (e.g., industry and professional guidance).  \\n2210.C1  – Consulting engagement objectives must address governance, risk management , \\nand control  processes to the extent agreed upon with the client.  \\n2210.C2  – Consulting engagement objectives must be consistent with the organization's \\nvalues, strategies, and objectives.  \\n2220 – Engagement Scope  \\nThe established scope must be sufficient to achieve the objectives of the engagement.  \\n2220.A1  – The scope of the engagement must include consideration of relevant systems, \\nrecords, personnel, and physical properties, including those under the control of third \\nparties.\", metadata={'page': 14, 'source': './pdf/IIA Standards - Audit Manual.pdf'})"
      ]
     },
     "execution_count": 10,
     "metadata": {},
     "output_type": "execute_result"
    }
   ],
   "source": [
    "docs[1]"
   ]
  },
  {
   "cell_type": "code",
   "execution_count": 11,
   "metadata": {},
   "outputs": [
    {
     "data": {
      "text/plain": [
       "Document(page_content='International Standards for the Professional Practice of Internal Auditing  (Standards)  \\nRevised:  October 2016  Page 17 of 25 \\nEffective: January 2017   \\n© 2016  The Institute of Internal Auditors  Sufficient information is factual, adequate, and convincing so that a prudent, informed person \\nwould reach the same conclusions as the auditor. Reliable information is the best attainable \\ninformation through the use of appropriate engagement techniques. Relevant information \\nsupports engagement observations and recommendations and is consistent with the objectives \\nfor the engagement. Useful information helps the organization meet its goals.  \\n2320 – Analysis and Evaluation  \\nInternal auditors must base conclusions and engagement results on appropriate analyses and \\nevaluations.  \\n2330 – Documenting  Information  \\nInternal auditors must document sufficient, reliable, relevant, and useful information to support \\nthe engageme nt results and conclusions.  \\n2330.A1  – The chief audit executive must control access to engagement records. The chief \\naudit executive must  obtain the approval of senior management and/or legal counsel prior \\nto releasing such records to external parties, as appropriate.  \\n2330.A2  – The chief audit executive must develop retention requirements for engagement \\nrecords , regardless of the medium in which each record is stored . These retention \\nrequirements must be consistent with the organization’s guidelines and any pertinent \\nregulatory or other requirements.  \\n2330.C1  – The chief audit executive must develop policies governing the custody and \\nretentio n of consulting engagement records, as well as their release to internal and external \\nparties. These policies must be consistent with the organization’s guidelines and any \\npertinent regulatory or other requirements.  \\n2340 – Engagement Supervision  \\nEngagement s must be properly supervised to ensure objectives are achieved, quality is assured, \\nand staff is developed.  \\nInterpretation : \\nThe extent of supervision required will depend on the proficiency and experience of internal \\nauditors and the complexity of the engagement. The chief audit executive has overall \\nresponsibility for supervising the engagement, whether performed by or for the internal audit \\nactivity, but may designate appropriately experienced members of the internal audit activity to \\nperform the revi ew. Appropriate evidence of supervision is documented and retained.  \\n2400 – Communicating Results  \\nInternal auditors must communicate the results of engagements . \\n2410 – Criteria for Communicating', metadata={'page': 16, 'source': './pdf/IIA Standards - Audit Manual.pdf'})"
      ]
     },
     "execution_count": 11,
     "metadata": {},
     "output_type": "execute_result"
    }
   ],
   "source": [
    "docs[2]"
   ]
  },
  {
   "cell_type": "code",
   "execution_count": 19,
   "metadata": {},
   "outputs": [
    {
     "data": {
      "text/plain": [
       "VectorStoreRetriever(tags=['Chroma', 'HuggingFaceEmbeddings'], vectorstore=<langchain_community.vectorstores.chroma.Chroma object at 0x000002B3CE042010>, search_kwargs={'filter': {'source': './pdf/IIA Implementation-Guides.pdf'}})"
      ]
     },
     "execution_count": 19,
     "metadata": {},
     "output_type": "execute_result"
    }
   ],
   "source": [
    "db.as_retriever(search_kwargs={\"filter\":{\"source\":\"./pdf/IIA Implementation-Guides.pdf\"}})"
   ]
  },
  {
   "cell_type": "code",
   "execution_count": 16,
   "metadata": {},
   "outputs": [],
   "source": [
    "# from langchain.chat_models import ChatOpenAI\n",
    "from langchain_openai import ChatOpenAI\n",
    "from langchain.chains import RetrievalQA\n",
    "\n",
    "llm = ChatOpenAI(\n",
    "    model_name='gpt-3.5-turbo',\n",
    "    temperature=0.0\n",
    ")\n",
    "\n",
    "qa = RetrievalQA.from_chain_type(\n",
    "    llm=llm,\n",
    "    chain_type=\"stuff\",\n",
    "    retriever=db.as_retriever(search_kwargs={\"filter\":{\"source\":\"./pdf/IIA Implementation-Guides.pdf\"}})\n",
    ")\n"
   ]
  },
  {
   "cell_type": "code",
   "execution_count": 15,
   "metadata": {},
   "outputs": [
    {
     "data": {
      "text/plain": [
       "{'query': \"What is the chief auditor's role?\",\n",
       " 'result': \"The chief auditor's role is to effectively manage the internal audit activity to ensure it adds value to the organization. This includes achieving the purpose and responsibility outlined in the internal audit charter, conforming with the Standards and Code of Ethics, considering trends and emerging issues that could impact the organization, and providing relevant assurance. The chief auditor is also responsible for establishing a risk-based plan for the internal audit activity, consulting with senior management and the board to understand the organization's strategies, objectives, and risks, and adjusting the plan as necessary. Additionally, the chief auditor communicates and interacts directly with the board, monitors the disposition of results communicated to management, and discusses any unacceptable levels of risk accepted by management with senior management and the board.\"}"
      ]
     },
     "execution_count": 15,
     "metadata": {},
     "output_type": "execute_result"
    }
   ],
   "source": [
    "# retriever=db.as_retriever(search_kwargs={\"filter\":{\"source\":\"./pdf/IIA Standards - Audit Manual.pdf\"}})\n",
    "qa.invoke(\"What is the chief auditor's role?\")"
   ]
  },
  {
   "cell_type": "code",
   "execution_count": 18,
   "metadata": {},
   "outputs": [
    {
     "data": {
      "text/plain": [
       "{'query': \"What is the chief auditor's role?\",\n",
       " 'result': 'The chief audit executive (CAE) is responsible for overseeing the internal audit activity within an organization. Their role includes ensuring the independence and objectivity of the internal audit function, managing the internal audit staff, developing and implementing audit plans, and providing assurance and consulting services to the organization. The CAE is also responsible for assessing the competency of internal auditors, developing policies and procedures for the internal audit activity, and promoting a culture of integrity and ethical behavior within the organization.'}"
      ]
     },
     "execution_count": 18,
     "metadata": {},
     "output_type": "execute_result"
    }
   ],
   "source": [
    "# retriever=db.as_retriever(search_kwargs={\"filter\":{\"source\":\"./pdf/IIA Implementation-Guides.pdf\"}})\n",
    "qa.invoke(\"What is the chief auditor's role?\")"
   ]
  },
  {
   "cell_type": "code",
   "execution_count": 20,
   "metadata": {},
   "outputs": [
    {
     "data": {
      "text/plain": [
       "'The chief audit executive (CAE) is responsible for overseeing the internal audit activity within an organization. Their role includes ensuring the independence and objectivity of the internal audit function, managing the internal audit staff, and providing assurance and consulting services to the organization. The CAE is also responsible for assessing the competency of individual internal auditors, developing policies and procedures for the internal audit activity, and promoting a culture of integrity within the organization. Additionally, the CAE may have roles and responsibilities outside of internal auditing, such as compliance or risk management activities, which need to be managed to avoid impairments to independence or objectivity.'"
      ]
     },
     "execution_count": 20,
     "metadata": {},
     "output_type": "execute_result"
    }
   ],
   "source": [
    "qa.invoke(\"What is the chief auditor's role?\")['result']"
   ]
  },
  {
   "cell_type": "code",
   "execution_count": null,
   "metadata": {},
   "outputs": [],
   "source": []
  }
 ],
 "metadata": {
  "kernelspec": {
   "display_name": "base",
   "language": "python",
   "name": "python3"
  },
  "language_info": {
   "codemirror_mode": {
    "name": "ipython",
    "version": 3
   },
   "file_extension": ".py",
   "mimetype": "text/x-python",
   "name": "python",
   "nbconvert_exporter": "python",
   "pygments_lexer": "ipython3",
   "version": "3.11.7"
  }
 },
 "nbformat": 4,
 "nbformat_minor": 2
}
